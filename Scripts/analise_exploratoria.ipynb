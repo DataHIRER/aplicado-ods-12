{
 "cells": [
  {
   "cell_type": "markdown",
   "metadata": {},
   "source": [
    "Criação da tabela 1: contém informações sobre as empresas a serem comparadas\n",
    "\n",
    "Downloads e fontes:\n",
    "- [Índice ico2 b3](https://www.b3.com.br/pt_br/market-data-e-indices/indices/indices-de-sustentabilidade/indice-carbono-eficiente-ico2-composicao-da-carteira.htm)\n",
    "- [Ibovespa - Ações e setores](https://www.b3.com.br/pt_br/market-data-e-indices/indices/indices-amplos/indice-ibovespa-ibovespa-composicao-da-carteira.htm)"
   ]
  },
  {
   "cell_type": "code",
   "execution_count": 28,
   "metadata": {},
   "outputs": [
    {
     "data": {
      "text/html": [
       "<div>\n",
       "<style scoped>\n",
       "    .dataframe tbody tr th:only-of-type {\n",
       "        vertical-align: middle;\n",
       "    }\n",
       "\n",
       "    .dataframe tbody tr th {\n",
       "        vertical-align: top;\n",
       "    }\n",
       "\n",
       "    .dataframe thead th {\n",
       "        text-align: right;\n",
       "    }\n",
       "</style>\n",
       "<table border=\"1\" class=\"dataframe\">\n",
       "  <thead>\n",
       "    <tr style=\"text-align: right;\">\n",
       "      <th></th>\n",
       "      <th>Codigo</th>\n",
       "      <th>Acao</th>\n",
       "      <th>Setor</th>\n",
       "      <th>ico2</th>\n",
       "    </tr>\n",
       "  </thead>\n",
       "  <tbody>\n",
       "    <tr>\n",
       "      <th>0</th>\n",
       "      <td>WEGE3</td>\n",
       "      <td>WEG</td>\n",
       "      <td>Bens Indls / Maqs e Equips</td>\n",
       "      <td>1</td>\n",
       "    </tr>\n",
       "    <tr>\n",
       "      <th>1</th>\n",
       "      <td>EMBR3</td>\n",
       "      <td>EMBRAER</td>\n",
       "      <td>Bens Indls / Mat Transporte</td>\n",
       "      <td>1</td>\n",
       "    </tr>\n",
       "    <tr>\n",
       "      <th>2</th>\n",
       "      <td>AZUL4</td>\n",
       "      <td>AZUL</td>\n",
       "      <td>Bens Indls/Transporte</td>\n",
       "      <td>1</td>\n",
       "    </tr>\n",
       "    <tr>\n",
       "      <th>3</th>\n",
       "      <td>CCRO3</td>\n",
       "      <td>CCR SA</td>\n",
       "      <td>Bens Indls/Transporte</td>\n",
       "      <td>1</td>\n",
       "    </tr>\n",
       "    <tr>\n",
       "      <th>4</th>\n",
       "      <td>GOLL4</td>\n",
       "      <td>GOL</td>\n",
       "      <td>Bens Indls/Transporte</td>\n",
       "      <td>1</td>\n",
       "    </tr>\n",
       "  </tbody>\n",
       "</table>\n",
       "</div>"
      ],
      "text/plain": [
       "  Codigo     Acao                        Setor  ico2\n",
       "0  WEGE3      WEG   Bens Indls / Maqs e Equips     1\n",
       "1  EMBR3  EMBRAER  Bens Indls / Mat Transporte     1\n",
       "2  AZUL4     AZUL        Bens Indls/Transporte     1\n",
       "3  CCRO3   CCR SA        Bens Indls/Transporte     1\n",
       "4  GOLL4      GOL        Bens Indls/Transporte     1"
      ]
     },
     "execution_count": 28,
     "metadata": {},
     "output_type": "execute_result"
    }
   ],
   "source": [
    "import pandas as pd\n",
    "import numpy as np\n",
    "dados_empresas_icoo = pd.read_csv('../Downloads/carteira_ico2_set-dez_2023.csv', delimiter=';')\n",
    "codigo_empresas_icoo = dados_empresas_icoo['Codigo'].to_list()\n",
    "\n",
    "dados_empresas_ibovespa = pd.read_csv(\"../Downloads/ibovespa_acoes_setores.csv\", delimiter=';')\n",
    "dados_empresas_ibovespa = dados_empresas_ibovespa[['Codigo', 'Acao', 'Setor']]\n",
    "dados_empresas_ibovespa['ico2'] = dados_empresas_ibovespa['Codigo'].apply(lambda x: 1 if x in codigo_empresas_icoo else 0)\n",
    "dados_empresas_ibovespa.head()"
   ]
  }
 ],
 "metadata": {
  "kernelspec": {
   "display_name": "Python 3",
   "language": "python",
   "name": "python3"
  },
  "language_info": {
   "codemirror_mode": {
    "name": "ipython",
    "version": 3
   },
   "file_extension": ".py",
   "mimetype": "text/x-python",
   "name": "python",
   "nbconvert_exporter": "python",
   "pygments_lexer": "ipython3",
   "version": "3.10.0"
  },
  "orig_nbformat": 4
 },
 "nbformat": 4,
 "nbformat_minor": 2
}
